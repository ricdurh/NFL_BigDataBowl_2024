{
  "cells": [
    {
      "cell_type": "code",
      "source": [
        "from google.colab import drive\n",
        "drive.mount('/content/drive'  , force_remount=True\n",
        ")"
      ],
      "metadata": {
        "colab": {
          "base_uri": "https://localhost:8080/"
        },
        "id": "PgMcTFG0FWQ3",
        "outputId": "68b498fe-7087-45ab-f9eb-f0ece7a899b2"
      },
      "execution_count": 1,
      "outputs": [
        {
          "output_type": "stream",
          "name": "stdout",
          "text": [
            "Mounted at /content/drive\n"
          ]
        }
      ]
    },
    {
      "cell_type": "code",
      "source": [
        "import pandas as pd\n",
        "import numpy as np\n",
        "\n",
        "all_players_sorted_1 = pd.read_pickle(\"all_players_sorted_1.pkl\")\n",
        "all_players_sorted_2 = pd.read_pickle(\"all_players_sorted_2.pkl\")\n",
        "all_players_sorted_3 = pd.read_pickle(\"all_players_sorted_3.pkl\")\n",
        "all_players_sorted_4 = pd.read_pickle(\"all_players_sorted_4.pkl\")\n",
        "all_players_sorted_5 = pd.read_pickle(\"all_players_sorted_5.pkl\")\n",
        "all_players_sorted_6 = pd.read_pickle(\"all_players_sorted_6.pkl\")\n",
        "all_players_sorted_7 = pd.read_pickle(\"all_players_sorted_7.pkl\")\n",
        "all_players_sorted_8 = pd.read_pickle(\"all_players_sorted_8.pkl\")\n",
        "all_players_sorted_9 = pd.read_pickle(\"all_players_sorted_9.pkl\")\n",
        "\n",
        "df_all = pd.read_pickle(\"df_all.pkl\")\n",
        "\n",
        "games = pd.read_csv(\"games.csv\")\n",
        "players = pd.read_csv(\"players.csv\")\n",
        "plays = pd.read_csv(\"plays.csv\")\n",
        "tackles = pd.read_csv(\"tackles.csv\")"
      ],
      "metadata": {
        "id": "5k5S9ZyTFWMD"
      },
      "execution_count": 3,
      "outputs": []
    },
    {
      "cell_type": "code",
      "source": [
        "shap_values_wks_7_9 = pd.read_csv(\"shap_values_7_9.csv\")"
      ],
      "metadata": {
        "id": "coy1dqpAFWF4"
      },
      "execution_count": null,
      "outputs": []
    },
    {
      "cell_type": "code",
      "source": [
        "!pip install nfl-data-py"
      ],
      "metadata": {
        "id": "ZZ_d_aYQco5L",
        "colab": {
          "base_uri": "https://localhost:8080/"
        },
        "outputId": "4a241146-76cf-47a0-ba6c-b0d5e1afc97f"
      },
      "execution_count": 5,
      "outputs": [
        {
          "output_type": "stream",
          "name": "stdout",
          "text": [
            "Collecting nfl-data-py\n",
            "  Downloading nfl_data_py-0.3.1.tar.gz (16 kB)\n",
            "  Preparing metadata (setup.py) ... \u001b[?25l\u001b[?25hdone\n",
            "Requirement already satisfied: pandas>1 in /usr/local/lib/python3.10/dist-packages (from nfl-data-py) (1.5.3)\n",
            "Requirement already satisfied: appdirs>1 in /usr/local/lib/python3.10/dist-packages (from nfl-data-py) (1.4.4)\n",
            "Collecting fastparquet>0.5 (from nfl-data-py)\n",
            "  Downloading fastparquet-2023.10.1-cp310-cp310-manylinux_2_17_x86_64.manylinux2014_x86_64.whl (1.7 MB)\n",
            "\u001b[2K     \u001b[90m━━━━━━━━━━━━━━━━━━━━━━━━━━━━━━━━━━━━━━━━\u001b[0m \u001b[32m1.7/1.7 MB\u001b[0m \u001b[31m7.6 MB/s\u001b[0m eta \u001b[36m0:00:00\u001b[0m\n",
            "\u001b[?25hCollecting python-snappy>0.5 (from nfl-data-py)\n",
            "  Downloading python_snappy-0.6.1-cp310-cp310-manylinux_2_12_x86_64.manylinux2010_x86_64.whl (55 kB)\n",
            "\u001b[2K     \u001b[90m━━━━━━━━━━━━━━━━━━━━━━━━━━━━━━━━━━━━━━━━\u001b[0m \u001b[32m55.9/55.9 kB\u001b[0m \u001b[31m8.3 MB/s\u001b[0m eta \u001b[36m0:00:00\u001b[0m\n",
            "\u001b[?25hRequirement already satisfied: numpy>=1.20.3 in /usr/local/lib/python3.10/dist-packages (from fastparquet>0.5->nfl-data-py) (1.23.5)\n",
            "Collecting cramjam>=2.3 (from fastparquet>0.5->nfl-data-py)\n",
            "  Downloading cramjam-2.7.0-cp310-cp310-manylinux_2_17_x86_64.manylinux2014_x86_64.whl (1.6 MB)\n",
            "\u001b[2K     \u001b[90m━━━━━━━━━━━━━━━━━━━━━━━━━━━━━━━━━━━━━━━━\u001b[0m \u001b[32m1.6/1.6 MB\u001b[0m \u001b[31m14.7 MB/s\u001b[0m eta \u001b[36m0:00:00\u001b[0m\n",
            "\u001b[?25hRequirement already satisfied: fsspec in /usr/local/lib/python3.10/dist-packages (from fastparquet>0.5->nfl-data-py) (2023.6.0)\n",
            "Requirement already satisfied: packaging in /usr/local/lib/python3.10/dist-packages (from fastparquet>0.5->nfl-data-py) (23.2)\n",
            "Requirement already satisfied: python-dateutil>=2.8.1 in /usr/local/lib/python3.10/dist-packages (from pandas>1->nfl-data-py) (2.8.2)\n",
            "Requirement already satisfied: pytz>=2020.1 in /usr/local/lib/python3.10/dist-packages (from pandas>1->nfl-data-py) (2023.3.post1)\n",
            "Requirement already satisfied: six>=1.5 in /usr/local/lib/python3.10/dist-packages (from python-dateutil>=2.8.1->pandas>1->nfl-data-py) (1.16.0)\n",
            "Building wheels for collected packages: nfl-data-py\n",
            "  Building wheel for nfl-data-py (setup.py) ... \u001b[?25l\u001b[?25hdone\n",
            "  Created wheel for nfl-data-py: filename=nfl_data_py-0.3.1-py3-none-any.whl size=13187 sha256=a05a0dad30cbffbf39a5929ca9d035837f94107add86f4301447e08197df970a\n",
            "  Stored in directory: /root/.cache/pip/wheels/ca/2e/d2/4def312ac7c070e1c0002e91ecc6923481a86c3ebd5b2c5413\n",
            "Successfully built nfl-data-py\n",
            "Installing collected packages: python-snappy, cramjam, fastparquet, nfl-data-py\n",
            "Successfully installed cramjam-2.7.0 fastparquet-2023.10.1 nfl-data-py-0.3.1 python-snappy-0.6.1\n"
          ]
        }
      ]
    },
    {
      "cell_type": "code",
      "source": [
        "import nfl_data_py as nfl\n",
        "\n",
        "pbp_data = nfl.import_pbp_data(years=[2022])"
      ],
      "metadata": {
        "colab": {
          "base_uri": "https://localhost:8080/"
        },
        "id": "BksCSsilcoyg",
        "outputId": "94771e3b-013c-42a2-fb1a-8b2ceac65353"
      },
      "execution_count": 6,
      "outputs": [
        {
          "output_type": "stream",
          "name": "stdout",
          "text": [
            "2022 done.\n",
            "Downcasting floats.\n"
          ]
        }
      ]
    },
    {
      "cell_type": "code",
      "source": [
        "# additional play-by-play data from nfl-data-py\n",
        "\n",
        "pbp_df = pbp_data[['old_game_id', 'play_id', 'third_down_failed', 'fourth_down_failed', 'goal_to_go',\n",
        "                   'tackled_for_loss', 'run_gap', 'run_location', 'epa']]\n",
        "\n",
        "pbp_df = pbp_df.rename(columns={'old_game_id': 'gameId', 'play_id': 'playId'})\n",
        "\n",
        "pbp_df['gameId'] = pbp_df['gameId'].astype(int)"
      ],
      "metadata": {
        "id": "fvVk6zbccorV"
      },
      "execution_count": 7,
      "outputs": []
    },
    {
      "cell_type": "code",
      "source": [
        "wks_1_6 = games[['gameId', 'week']].merge(df_all[['gameId']])\n",
        "wks_7_9 = wks_1_6[wks_1_6['week'] > 6.5]\n",
        "wks_1_6 = wks_1_6[wks_1_6['week'] < 6.5]\n",
        "\n",
        "df_all_1_6 = df_all[df_all['gameId'] < 2022101900]\n",
        "df_all_7_9 = df_all[df_all['gameId'] > 2022101900]"
      ],
      "metadata": {
        "id": "rf3vn9lQ2DKf"
      },
      "execution_count": 8,
      "outputs": []
    },
    {
      "cell_type": "code",
      "source": [
        "# SHAP value sums for defenders 1-3\n",
        "shap_values_wks_7_9['def1_sum'] = shap_values_wks_7_9['player2.0_s'] + shap_values_wks_7_9['player2.0_dist_ball'] + shap_values_wks_7_9['player2.0_ang_ball'] + shap_values_wks_7_9['player2.0_dis_closest_o'] + shap_values_wks_7_9['player2.0_ang_closest_o'] + shap_values_wks_7_9['player2.0_min_dist'] + shap_values_wks_7_9['player2.0_ang_min'] + shap_values_wks_7_9['player2.0_2_min_dist'] + shap_values_wks_7_9['player2.0_2_ang_min']\n",
        "\n",
        "shap_values_wks_7_9['def2_sum'] = shap_values_wks_7_9['player3.0_s'] + shap_values_wks_7_9['player3.0_dist_ball'] + shap_values_wks_7_9['player3.0_ang_ball'] + shap_values_wks_7_9['player3.0_dis_closest_o'] + shap_values_wks_7_9['player3.0_ang_closest_o'] + shap_values_wks_7_9['player3.0_min_dist'] + shap_values_wks_7_9['player3.0_ang_min'] + shap_values_wks_7_9['player3.0_2_min_dist'] + shap_values_wks_7_9['player3.0_2_ang_min']\n",
        "\n",
        "shap_values_wks_7_9['def3_sum'] = shap_values_wks_7_9['player4.0_s'] + shap_values_wks_7_9['player4.0_dist_ball'] + shap_values_wks_7_9['player4.0_ang_ball'] + shap_values_wks_7_9['player4.0_dis_closest_o'] + shap_values_wks_7_9['player4.0_ang_closest_o'] + shap_values_wks_7_9['player4.0_min_dist'] + shap_values_wks_7_9['player4.0_ang_min'] + shap_values_wks_7_9['player4.0_2_min_dist'] + shap_values_wks_7_9['player4.0_2_ang_min']"
      ],
      "metadata": {
        "id": "OkrqxGgPsuJF"
      },
      "execution_count": 9,
      "outputs": []
    },
    {
      "cell_type": "code",
      "source": [
        "all_players_sorted_7_9 = pd.concat([all_players_sorted_7, all_players_sorted_8, all_players_sorted_9], axis=0)"
      ],
      "metadata": {
        "id": "GGu20yzSEvEZ"
      },
      "execution_count": 10,
      "outputs": []
    },
    {
      "cell_type": "code",
      "source": [
        "df_all_7_9 = df_all_7_9.reset_index(drop=True)"
      ],
      "metadata": {
        "id": "vNiRtVl-sja_"
      },
      "execution_count": 11,
      "outputs": []
    },
    {
      "cell_type": "code",
      "source": [
        "df_shap_7_9 = df_all_7_9[['gameId', 'playId', 'frameId', 'frame_since_bc', 'player1.0_y',\n",
        "                          'actual_dist_from_final']].merge(shap_values_wks_7_9[['def1_sum', 'def2_sum', 'def3_sum']],\n",
        "                                                                                  left_index=True, right_index=True)"
      ],
      "metadata": {
        "id": "x7VtJ659sjV4"
      },
      "execution_count": 12,
      "outputs": []
    },
    {
      "cell_type": "code",
      "source": [
        "df_shap_7_9_def = df_shap_7_9.merge(all_players_sorted_7_9[all_players_sorted_7_9['rank'] == 2][['gameId', 'playId', 'frameId', 'nflId', 'displayName', 'new_pos']],\n",
        "      on=['gameId', 'playId', 'frameId'], how='inner').merge(all_players_sorted_7_9[all_players_sorted_7_9['rank'] == 3][['gameId', 'playId', 'frameId', 'nflId', 'displayName', 'new_pos']],\n",
        "      on=['gameId', 'playId', 'frameId'], how='inner').merge(all_players_sorted_7_9[all_players_sorted_7_9['rank'] == 4][['gameId', 'playId', 'frameId', 'nflId', 'displayName', 'new_pos']],\n",
        "      on=['gameId', 'playId', 'frameId'], how='inner')\n",
        "\n",
        "df_shap_7_9_def = df_shap_7_9_def.rename(columns={'nflId_x': 'def1_nflId', 'displayName_x': 'def1_name', 'nflId_y': 'def2_nflId',\n",
        "                                'displayName_y': 'def2_name', 'nflId': 'def3_nflId', 'displayName': 'def3_name'})"
      ],
      "metadata": {
        "id": "xqXTWP7q1A9c"
      },
      "execution_count": 13,
      "outputs": []
    },
    {
      "cell_type": "code",
      "source": [
        "# cutoff play once the frame gets to the point where the ball carrier has reached final distance and doesn't move side to side anymore\n",
        "\n",
        "def filter_rows(group):\n",
        "    # Identify if any frame's distance_to_final drops below 0.1\n",
        "    cutoff_reached = group['actual_dist_from_final'].lt(0).any()\n",
        "    if cutoff_reached:\n",
        "        # Find the first frameId where distance_to_final drops below 0.1\n",
        "        first_cutoff_frame = group[group['actual_dist_from_final'] < 0]['frameId'].iloc[0]\n",
        "        # Check if any subsequent frames have distance_to_final > 0.5\n",
        "        subsequent_frames = group[group['frameId'] > first_cutoff_frame]\n",
        "        if not subsequent_frames['actual_dist_from_final'].gt(0.5).any():\n",
        "            # Filter out rows after the first cutoff frame (plus 1 additional frame) and keep the last 15 frames\n",
        "            remaining_frames = group[(group['frameId'] <= (first_cutoff_frame + 1)) ]            # & (group['frameId'] >= (first_cutoff_frame - 13))\n",
        "            removing_frames = group[(group['frameId'] > first_cutoff_frame)]\n",
        "            # Check if the difference between max and min of 'player1.0_y' is less than 2\n",
        "            if removing_frames['player1.0_y'].max() - removing_frames['player1.0_y'].min() < 2:\n",
        "                return remaining_frames\n",
        "    return group"
      ],
      "metadata": {
        "id": "erMm6WkcIzx4"
      },
      "execution_count": 14,
      "outputs": []
    },
    {
      "cell_type": "code",
      "source": [
        "df_shap_7_9_def = df_shap_7_9_def.groupby(['gameId', 'playId']).apply(filter_rows).reset_index(drop=True)"
      ],
      "metadata": {
        "id": "Ixcn13IlIxSU"
      },
      "execution_count": 15,
      "outputs": []
    },
    {
      "cell_type": "code",
      "source": [
        "# cutoff to the last 15 frames\n",
        "df_shap_7_9_def = df_shap_7_9_def.groupby(['gameId', 'playId']).apply(lambda x: x.tail(15)).reset_index(drop=True)"
      ],
      "metadata": {
        "id": "Ji6MjKuBvPza"
      },
      "execution_count": 16,
      "outputs": []
    },
    {
      "cell_type": "code",
      "source": [
        "# filter out touchdowns and nullified penalties\n",
        "plays['TD'] = plays['playDescription'].str.contains('TOUCHDOWN', case=False).astype(int)\n",
        "filtered_plays = plays[(plays['TD'] == 0) & (plays['playNullifiedByPenalty'] == 'N')].reset_index(drop=True)"
      ],
      "metadata": {
        "id": "r5r1aw_MQ-Rn"
      },
      "execution_count": 17,
      "outputs": []
    },
    {
      "cell_type": "code",
      "source": [
        "df_shap_7_9_def_fp = df_shap_7_9_def.merge(filtered_plays[['gameId', 'playId']], on=['gameId', 'playId'], how='inner')\n",
        "\n",
        "df_shap_7_9_def_fp['def1_sum_neg_transform'] = np.where(df_shap_7_9_def_fp['def1_sum'] < 0, df_shap_7_9_def_fp['def1_sum'] * -1, 0)\n",
        "df_shap_7_9_def_fp['def2_sum_neg_transform'] = np.where(df_shap_7_9_def_fp['def2_sum'] < 0, df_shap_7_9_def_fp['def2_sum'] * -1, 0)\n",
        "df_shap_7_9_def_fp['def3_sum_neg_transform'] = np.where(df_shap_7_9_def_fp['def3_sum'] < 0, df_shap_7_9_def_fp['def3_sum'] * -1, 0)"
      ],
      "metadata": {
        "id": "kP_DFULodCYO"
      },
      "execution_count": 18,
      "outputs": []
    },
    {
      "cell_type": "code",
      "source": [
        "a = df_shap_7_9_def_fp.groupby(['gameId', 'playId', 'def1_nflId', 'def1_name'])['def1_sum_neg_transform'].sum()\n",
        "b = df_shap_7_9_def_fp.groupby(['gameId', 'playId', 'def2_nflId', 'def2_name'])['def2_sum_neg_transform'].sum()\n",
        "c = df_shap_7_9_def_fp.groupby(['gameId', 'playId', 'def3_nflId', 'def3_name'])['def3_sum_neg_transform'].sum()\n",
        "\n",
        "a = pd.DataFrame(a).reset_index()\n",
        "b = pd.DataFrame(b).reset_index()\n",
        "c = pd.DataFrame(c).reset_index()"
      ],
      "metadata": {
        "id": "V6-mSsvQRq-F"
      },
      "execution_count": 19,
      "outputs": []
    },
    {
      "cell_type": "code",
      "source": [
        "d = df_shap_7_9_def_fp.groupby(['gameId', 'playId'])['def1_sum_neg_transform'].sum()\n",
        "e = df_shap_7_9_def_fp.groupby(['gameId', 'playId'])['def2_sum_neg_transform'].sum()\n",
        "f = df_shap_7_9_def_fp.groupby(['gameId', 'playId'])['def3_sum_neg_transform'].sum()\n",
        "\n",
        "d = pd.DataFrame(d).reset_index()\n",
        "e = pd.DataFrame(e).reset_index()\n",
        "f = pd.DataFrame(f).reset_index()\n",
        "\n",
        "d = d.rename(columns={'def1_sum_neg_transform': 'def1_total'})\n",
        "e = e.rename(columns={'def2_sum_neg_transform': 'def2_total'})\n",
        "f = f.rename(columns={'def3_sum_neg_transform': 'def3_total'})"
      ],
      "metadata": {
        "id": "82OiDSaUam-O"
      },
      "execution_count": 20,
      "outputs": []
    },
    {
      "cell_type": "code",
      "source": [
        "df_shap_7_9_def_group = a.merge(b, left_on=['gameId', 'playId', 'def1_nflId', 'def1_name'],\n",
        "                            right_on=['gameId', 'playId', 'def2_nflId', 'def2_name'], how='left').drop(columns=['def2_nflId', 'def2_name'], axis=1).merge(c,\n",
        "                            left_on=['gameId', 'playId', 'def1_nflId', 'def1_name'], right_on=['gameId', 'playId', 'def3_nflId', 'def3_name'],\n",
        "                            how='left').drop(columns=['def3_nflId', 'def3_name'], axis=1).merge(d, on=['gameId', 'playId'], how='inner').merge(e,\n",
        "                            on=['gameId', 'playId'], how='inner').merge(f, on=['gameId', 'playId'], how='inner')"
      ],
      "metadata": {
        "id": "vUgUsZT3Rq3D"
      },
      "execution_count": 21,
      "outputs": []
    },
    {
      "cell_type": "code",
      "source": [
        "df_shap_7_9_def_group['def1_sum_neg_transform'] = df_shap_7_9_def_group['def1_sum_neg_transform'].fillna(0)\n",
        "df_shap_7_9_def_group['def2_sum_neg_transform'] = df_shap_7_9_def_group['def2_sum_neg_transform'].fillna(0)\n",
        "df_shap_7_9_def_group['def3_sum_neg_transform'] = df_shap_7_9_def_group['def3_sum_neg_transform'].fillna(0)"
      ],
      "metadata": {
        "id": "_AzOXpn0zHfx"
      },
      "execution_count": 22,
      "outputs": []
    },
    {
      "cell_type": "code",
      "source": [
        "df_shap_7_9_def_group['def_sum'] = df_shap_7_9_def_group['def1_sum_neg_transform'] + df_shap_7_9_def_group['def2_sum_neg_transform'] + df_shap_7_9_def_group['def3_sum_neg_transform']\n",
        "df_shap_7_9_def_group['play_total'] = df_shap_7_9_def_group['def1_total'] + df_shap_7_9_def_group['def2_total'] + df_shap_7_9_def_group['def3_total']"
      ],
      "metadata": {
        "id": "wIlThCS8dR8j"
      },
      "execution_count": 23,
      "outputs": []
    },
    {
      "cell_type": "code",
      "source": [
        "df_shap_7_9_def_group['prop'] = df_shap_7_9_def_group['def_sum'] / df_shap_7_9_def_group['play_total']\n",
        "df_shap_7_9_def_group['large_enough'] = np.where(df_shap_7_9_def_group['prop'] > 0.1,1,0)"
      ],
      "metadata": {
        "id": "3N4KjfA7Fo2s"
      },
      "execution_count": 24,
      "outputs": []
    },
    {
      "cell_type": "code",
      "source": [
        "df_shap_7_9_def_group_over_10pct = df_shap_7_9_def_group[df_shap_7_9_def_group['large_enough'] == 1].reset_index(drop=True)"
      ],
      "metadata": {
        "id": "8Mzwbxaf0EPP"
      },
      "execution_count": 25,
      "outputs": []
    },
    {
      "cell_type": "code",
      "source": [
        "new_sum = df_shap_7_9_def_group_over_10pct.groupby(['gameId', 'playId'])['def_sum'].sum().reset_index()\n",
        "new_sum = new_sum.rename(columns={'def_sum': 'new_total_sum'})"
      ],
      "metadata": {
        "id": "T6ynbRXS4O94"
      },
      "execution_count": 26,
      "outputs": []
    },
    {
      "cell_type": "code",
      "source": [
        "df_shap_7_9_def_group_over_10pct = df_shap_7_9_def_group_over_10pct.merge(new_sum, on=['gameId', 'playId'], how='inner')"
      ],
      "metadata": {
        "id": "csYirKH34l-F"
      },
      "execution_count": 27,
      "outputs": []
    },
    {
      "cell_type": "code",
      "source": [
        "df_shap_7_9_def_group_over_10pct['new_prop'] = df_shap_7_9_def_group_over_10pct['def_sum'] / df_shap_7_9_def_group_over_10pct['new_total_sum']"
      ],
      "metadata": {
        "id": "zRuJ7aKf33LO"
      },
      "execution_count": 28,
      "outputs": []
    },
    {
      "cell_type": "code",
      "source": [
        "df_shap_final = df_shap_7_9_def_group_over_10pct[['gameId', 'playId', 'def1_nflId', 'def1_name', 'new_prop']]"
      ],
      "metadata": {
        "id": "WpjueNwI3_Nh"
      },
      "execution_count": 29,
      "outputs": []
    },
    {
      "cell_type": "code",
      "source": [
        "pbp_df['gameId'] = pbp_df['gameId'].astype(int)"
      ],
      "metadata": {
        "id": "mVA5qn8n6VrG"
      },
      "execution_count": 30,
      "outputs": []
    },
    {
      "cell_type": "code",
      "source": [
        "df_shap_final_pbp = df_shap_final.merge(pbp_df, on=['gameId', 'playId'], how='inner')"
      ],
      "metadata": {
        "id": "EEbAQGr55n6v"
      },
      "execution_count": 31,
      "outputs": []
    },
    {
      "cell_type": "code",
      "source": [
        "df_shap_final_pbp"
      ],
      "metadata": {
        "colab": {
          "base_uri": "https://localhost:8080/",
          "height": 617
        },
        "id": "fzC-H48FIlHV",
        "outputId": "ad31cf6f-6ce5-4c17-a6ba-5d10d2484eb7"
      },
      "execution_count": 32,
      "outputs": [
        {
          "output_type": "execute_result",
          "data": {
            "text/plain": [
              "          gameId  playId  def1_nflId             def1_name  new_prop  \\\n",
              "0     2022102000      80     44848.0           Budda Baker  0.679478   \n",
              "1     2022102000      80     49410.0        Jalen Thompson  0.320522   \n",
              "2     2022102000     101     52539.0      Rashard Lawrence  0.641223   \n",
              "3     2022102000     101     53445.0         Zaven Collins  0.358777   \n",
              "4     2022102000     201     40017.0        Tyrann Mathieu  0.511015   \n",
              "...          ...     ...         ...                   ...       ...   \n",
              "3317  2022110700    3707     44851.0           Marcus Maye  0.294283   \n",
              "3318  2022110700    3707     48027.0          Kaden Elliss  0.705717   \n",
              "3319  2022110700    3740     48537.0       Carl Granderson  1.000000   \n",
              "3320  2022110700    3787     52578.0  Broderick Washington  0.552720   \n",
              "3321  2022110700    3787     54541.0          Travis Jones  0.447280   \n",
              "\n",
              "      third_down_failed  fourth_down_failed  goal_to_go  tackled_for_loss  \\\n",
              "0                   0.0                 0.0         0.0               0.0   \n",
              "1                   0.0                 0.0         0.0               0.0   \n",
              "2                   0.0                 0.0         0.0               0.0   \n",
              "3                   0.0                 0.0         0.0               0.0   \n",
              "4                   0.0                 0.0         0.0               0.0   \n",
              "...                 ...                 ...         ...               ...   \n",
              "3317                0.0                 0.0         0.0               0.0   \n",
              "3318                0.0                 0.0         0.0               0.0   \n",
              "3319                1.0                 0.0         0.0               1.0   \n",
              "3320                0.0                 0.0         0.0               0.0   \n",
              "3321                0.0                 0.0         0.0               0.0   \n",
              "\n",
              "     run_gap run_location       epa  \n",
              "0       None       middle  1.318386  \n",
              "1       None       middle  1.318386  \n",
              "2       None       middle -0.152057  \n",
              "3       None       middle -0.152057  \n",
              "4       None       middle  0.279343  \n",
              "...      ...          ...       ...  \n",
              "3317     end        right -0.149736  \n",
              "3318     end        right -0.149736  \n",
              "3319     end         left -1.144850  \n",
              "3320   guard        right -0.099311  \n",
              "3321   guard        right -0.099311  \n",
              "\n",
              "[3322 rows x 12 columns]"
            ],
            "text/html": [
              "\n",
              "  <div id=\"df-bccfa006-dde9-460e-b67a-32c443462fe0\" class=\"colab-df-container\">\n",
              "    <div>\n",
              "<style scoped>\n",
              "    .dataframe tbody tr th:only-of-type {\n",
              "        vertical-align: middle;\n",
              "    }\n",
              "\n",
              "    .dataframe tbody tr th {\n",
              "        vertical-align: top;\n",
              "    }\n",
              "\n",
              "    .dataframe thead th {\n",
              "        text-align: right;\n",
              "    }\n",
              "</style>\n",
              "<table border=\"1\" class=\"dataframe\">\n",
              "  <thead>\n",
              "    <tr style=\"text-align: right;\">\n",
              "      <th></th>\n",
              "      <th>gameId</th>\n",
              "      <th>playId</th>\n",
              "      <th>def1_nflId</th>\n",
              "      <th>def1_name</th>\n",
              "      <th>new_prop</th>\n",
              "      <th>third_down_failed</th>\n",
              "      <th>fourth_down_failed</th>\n",
              "      <th>goal_to_go</th>\n",
              "      <th>tackled_for_loss</th>\n",
              "      <th>run_gap</th>\n",
              "      <th>run_location</th>\n",
              "      <th>epa</th>\n",
              "    </tr>\n",
              "  </thead>\n",
              "  <tbody>\n",
              "    <tr>\n",
              "      <th>0</th>\n",
              "      <td>2022102000</td>\n",
              "      <td>80</td>\n",
              "      <td>44848.0</td>\n",
              "      <td>Budda Baker</td>\n",
              "      <td>0.679478</td>\n",
              "      <td>0.0</td>\n",
              "      <td>0.0</td>\n",
              "      <td>0.0</td>\n",
              "      <td>0.0</td>\n",
              "      <td>None</td>\n",
              "      <td>middle</td>\n",
              "      <td>1.318386</td>\n",
              "    </tr>\n",
              "    <tr>\n",
              "      <th>1</th>\n",
              "      <td>2022102000</td>\n",
              "      <td>80</td>\n",
              "      <td>49410.0</td>\n",
              "      <td>Jalen Thompson</td>\n",
              "      <td>0.320522</td>\n",
              "      <td>0.0</td>\n",
              "      <td>0.0</td>\n",
              "      <td>0.0</td>\n",
              "      <td>0.0</td>\n",
              "      <td>None</td>\n",
              "      <td>middle</td>\n",
              "      <td>1.318386</td>\n",
              "    </tr>\n",
              "    <tr>\n",
              "      <th>2</th>\n",
              "      <td>2022102000</td>\n",
              "      <td>101</td>\n",
              "      <td>52539.0</td>\n",
              "      <td>Rashard Lawrence</td>\n",
              "      <td>0.641223</td>\n",
              "      <td>0.0</td>\n",
              "      <td>0.0</td>\n",
              "      <td>0.0</td>\n",
              "      <td>0.0</td>\n",
              "      <td>None</td>\n",
              "      <td>middle</td>\n",
              "      <td>-0.152057</td>\n",
              "    </tr>\n",
              "    <tr>\n",
              "      <th>3</th>\n",
              "      <td>2022102000</td>\n",
              "      <td>101</td>\n",
              "      <td>53445.0</td>\n",
              "      <td>Zaven Collins</td>\n",
              "      <td>0.358777</td>\n",
              "      <td>0.0</td>\n",
              "      <td>0.0</td>\n",
              "      <td>0.0</td>\n",
              "      <td>0.0</td>\n",
              "      <td>None</td>\n",
              "      <td>middle</td>\n",
              "      <td>-0.152057</td>\n",
              "    </tr>\n",
              "    <tr>\n",
              "      <th>4</th>\n",
              "      <td>2022102000</td>\n",
              "      <td>201</td>\n",
              "      <td>40017.0</td>\n",
              "      <td>Tyrann Mathieu</td>\n",
              "      <td>0.511015</td>\n",
              "      <td>0.0</td>\n",
              "      <td>0.0</td>\n",
              "      <td>0.0</td>\n",
              "      <td>0.0</td>\n",
              "      <td>None</td>\n",
              "      <td>middle</td>\n",
              "      <td>0.279343</td>\n",
              "    </tr>\n",
              "    <tr>\n",
              "      <th>...</th>\n",
              "      <td>...</td>\n",
              "      <td>...</td>\n",
              "      <td>...</td>\n",
              "      <td>...</td>\n",
              "      <td>...</td>\n",
              "      <td>...</td>\n",
              "      <td>...</td>\n",
              "      <td>...</td>\n",
              "      <td>...</td>\n",
              "      <td>...</td>\n",
              "      <td>...</td>\n",
              "      <td>...</td>\n",
              "    </tr>\n",
              "    <tr>\n",
              "      <th>3317</th>\n",
              "      <td>2022110700</td>\n",
              "      <td>3707</td>\n",
              "      <td>44851.0</td>\n",
              "      <td>Marcus Maye</td>\n",
              "      <td>0.294283</td>\n",
              "      <td>0.0</td>\n",
              "      <td>0.0</td>\n",
              "      <td>0.0</td>\n",
              "      <td>0.0</td>\n",
              "      <td>end</td>\n",
              "      <td>right</td>\n",
              "      <td>-0.149736</td>\n",
              "    </tr>\n",
              "    <tr>\n",
              "      <th>3318</th>\n",
              "      <td>2022110700</td>\n",
              "      <td>3707</td>\n",
              "      <td>48027.0</td>\n",
              "      <td>Kaden Elliss</td>\n",
              "      <td>0.705717</td>\n",
              "      <td>0.0</td>\n",
              "      <td>0.0</td>\n",
              "      <td>0.0</td>\n",
              "      <td>0.0</td>\n",
              "      <td>end</td>\n",
              "      <td>right</td>\n",
              "      <td>-0.149736</td>\n",
              "    </tr>\n",
              "    <tr>\n",
              "      <th>3319</th>\n",
              "      <td>2022110700</td>\n",
              "      <td>3740</td>\n",
              "      <td>48537.0</td>\n",
              "      <td>Carl Granderson</td>\n",
              "      <td>1.000000</td>\n",
              "      <td>1.0</td>\n",
              "      <td>0.0</td>\n",
              "      <td>0.0</td>\n",
              "      <td>1.0</td>\n",
              "      <td>end</td>\n",
              "      <td>left</td>\n",
              "      <td>-1.144850</td>\n",
              "    </tr>\n",
              "    <tr>\n",
              "      <th>3320</th>\n",
              "      <td>2022110700</td>\n",
              "      <td>3787</td>\n",
              "      <td>52578.0</td>\n",
              "      <td>Broderick Washington</td>\n",
              "      <td>0.552720</td>\n",
              "      <td>0.0</td>\n",
              "      <td>0.0</td>\n",
              "      <td>0.0</td>\n",
              "      <td>0.0</td>\n",
              "      <td>guard</td>\n",
              "      <td>right</td>\n",
              "      <td>-0.099311</td>\n",
              "    </tr>\n",
              "    <tr>\n",
              "      <th>3321</th>\n",
              "      <td>2022110700</td>\n",
              "      <td>3787</td>\n",
              "      <td>54541.0</td>\n",
              "      <td>Travis Jones</td>\n",
              "      <td>0.447280</td>\n",
              "      <td>0.0</td>\n",
              "      <td>0.0</td>\n",
              "      <td>0.0</td>\n",
              "      <td>0.0</td>\n",
              "      <td>guard</td>\n",
              "      <td>right</td>\n",
              "      <td>-0.099311</td>\n",
              "    </tr>\n",
              "  </tbody>\n",
              "</table>\n",
              "<p>3322 rows × 12 columns</p>\n",
              "</div>\n",
              "    <div class=\"colab-df-buttons\">\n",
              "\n",
              "  <div class=\"colab-df-container\">\n",
              "    <button class=\"colab-df-convert\" onclick=\"convertToInteractive('df-bccfa006-dde9-460e-b67a-32c443462fe0')\"\n",
              "            title=\"Convert this dataframe to an interactive table.\"\n",
              "            style=\"display:none;\">\n",
              "\n",
              "  <svg xmlns=\"http://www.w3.org/2000/svg\" height=\"24px\" viewBox=\"0 -960 960 960\">\n",
              "    <path d=\"M120-120v-720h720v720H120Zm60-500h600v-160H180v160Zm220 220h160v-160H400v160Zm0 220h160v-160H400v160ZM180-400h160v-160H180v160Zm440 0h160v-160H620v160ZM180-180h160v-160H180v160Zm440 0h160v-160H620v160Z\"/>\n",
              "  </svg>\n",
              "    </button>\n",
              "\n",
              "  <style>\n",
              "    .colab-df-container {\n",
              "      display:flex;\n",
              "      gap: 12px;\n",
              "    }\n",
              "\n",
              "    .colab-df-convert {\n",
              "      background-color: #E8F0FE;\n",
              "      border: none;\n",
              "      border-radius: 50%;\n",
              "      cursor: pointer;\n",
              "      display: none;\n",
              "      fill: #1967D2;\n",
              "      height: 32px;\n",
              "      padding: 0 0 0 0;\n",
              "      width: 32px;\n",
              "    }\n",
              "\n",
              "    .colab-df-convert:hover {\n",
              "      background-color: #E2EBFA;\n",
              "      box-shadow: 0px 1px 2px rgba(60, 64, 67, 0.3), 0px 1px 3px 1px rgba(60, 64, 67, 0.15);\n",
              "      fill: #174EA6;\n",
              "    }\n",
              "\n",
              "    .colab-df-buttons div {\n",
              "      margin-bottom: 4px;\n",
              "    }\n",
              "\n",
              "    [theme=dark] .colab-df-convert {\n",
              "      background-color: #3B4455;\n",
              "      fill: #D2E3FC;\n",
              "    }\n",
              "\n",
              "    [theme=dark] .colab-df-convert:hover {\n",
              "      background-color: #434B5C;\n",
              "      box-shadow: 0px 1px 3px 1px rgba(0, 0, 0, 0.15);\n",
              "      filter: drop-shadow(0px 1px 2px rgba(0, 0, 0, 0.3));\n",
              "      fill: #FFFFFF;\n",
              "    }\n",
              "  </style>\n",
              "\n",
              "    <script>\n",
              "      const buttonEl =\n",
              "        document.querySelector('#df-bccfa006-dde9-460e-b67a-32c443462fe0 button.colab-df-convert');\n",
              "      buttonEl.style.display =\n",
              "        google.colab.kernel.accessAllowed ? 'block' : 'none';\n",
              "\n",
              "      async function convertToInteractive(key) {\n",
              "        const element = document.querySelector('#df-bccfa006-dde9-460e-b67a-32c443462fe0');\n",
              "        const dataTable =\n",
              "          await google.colab.kernel.invokeFunction('convertToInteractive',\n",
              "                                                    [key], {});\n",
              "        if (!dataTable) return;\n",
              "\n",
              "        const docLinkHtml = 'Like what you see? Visit the ' +\n",
              "          '<a target=\"_blank\" href=https://colab.research.google.com/notebooks/data_table.ipynb>data table notebook</a>'\n",
              "          + ' to learn more about interactive tables.';\n",
              "        element.innerHTML = '';\n",
              "        dataTable['output_type'] = 'display_data';\n",
              "        await google.colab.output.renderOutput(dataTable, element);\n",
              "        const docLink = document.createElement('div');\n",
              "        docLink.innerHTML = docLinkHtml;\n",
              "        element.appendChild(docLink);\n",
              "      }\n",
              "    </script>\n",
              "  </div>\n",
              "\n",
              "\n",
              "<div id=\"df-e84f3a70-72b2-4be3-b01a-57742b00003e\">\n",
              "  <button class=\"colab-df-quickchart\" onclick=\"quickchart('df-e84f3a70-72b2-4be3-b01a-57742b00003e')\"\n",
              "            title=\"Suggest charts\"\n",
              "            style=\"display:none;\">\n",
              "\n",
              "<svg xmlns=\"http://www.w3.org/2000/svg\" height=\"24px\"viewBox=\"0 0 24 24\"\n",
              "     width=\"24px\">\n",
              "    <g>\n",
              "        <path d=\"M19 3H5c-1.1 0-2 .9-2 2v14c0 1.1.9 2 2 2h14c1.1 0 2-.9 2-2V5c0-1.1-.9-2-2-2zM9 17H7v-7h2v7zm4 0h-2V7h2v10zm4 0h-2v-4h2v4z\"/>\n",
              "    </g>\n",
              "</svg>\n",
              "  </button>\n",
              "\n",
              "<style>\n",
              "  .colab-df-quickchart {\n",
              "      --bg-color: #E8F0FE;\n",
              "      --fill-color: #1967D2;\n",
              "      --hover-bg-color: #E2EBFA;\n",
              "      --hover-fill-color: #174EA6;\n",
              "      --disabled-fill-color: #AAA;\n",
              "      --disabled-bg-color: #DDD;\n",
              "  }\n",
              "\n",
              "  [theme=dark] .colab-df-quickchart {\n",
              "      --bg-color: #3B4455;\n",
              "      --fill-color: #D2E3FC;\n",
              "      --hover-bg-color: #434B5C;\n",
              "      --hover-fill-color: #FFFFFF;\n",
              "      --disabled-bg-color: #3B4455;\n",
              "      --disabled-fill-color: #666;\n",
              "  }\n",
              "\n",
              "  .colab-df-quickchart {\n",
              "    background-color: var(--bg-color);\n",
              "    border: none;\n",
              "    border-radius: 50%;\n",
              "    cursor: pointer;\n",
              "    display: none;\n",
              "    fill: var(--fill-color);\n",
              "    height: 32px;\n",
              "    padding: 0;\n",
              "    width: 32px;\n",
              "  }\n",
              "\n",
              "  .colab-df-quickchart:hover {\n",
              "    background-color: var(--hover-bg-color);\n",
              "    box-shadow: 0 1px 2px rgba(60, 64, 67, 0.3), 0 1px 3px 1px rgba(60, 64, 67, 0.15);\n",
              "    fill: var(--button-hover-fill-color);\n",
              "  }\n",
              "\n",
              "  .colab-df-quickchart-complete:disabled,\n",
              "  .colab-df-quickchart-complete:disabled:hover {\n",
              "    background-color: var(--disabled-bg-color);\n",
              "    fill: var(--disabled-fill-color);\n",
              "    box-shadow: none;\n",
              "  }\n",
              "\n",
              "  .colab-df-spinner {\n",
              "    border: 2px solid var(--fill-color);\n",
              "    border-color: transparent;\n",
              "    border-bottom-color: var(--fill-color);\n",
              "    animation:\n",
              "      spin 1s steps(1) infinite;\n",
              "  }\n",
              "\n",
              "  @keyframes spin {\n",
              "    0% {\n",
              "      border-color: transparent;\n",
              "      border-bottom-color: var(--fill-color);\n",
              "      border-left-color: var(--fill-color);\n",
              "    }\n",
              "    20% {\n",
              "      border-color: transparent;\n",
              "      border-left-color: var(--fill-color);\n",
              "      border-top-color: var(--fill-color);\n",
              "    }\n",
              "    30% {\n",
              "      border-color: transparent;\n",
              "      border-left-color: var(--fill-color);\n",
              "      border-top-color: var(--fill-color);\n",
              "      border-right-color: var(--fill-color);\n",
              "    }\n",
              "    40% {\n",
              "      border-color: transparent;\n",
              "      border-right-color: var(--fill-color);\n",
              "      border-top-color: var(--fill-color);\n",
              "    }\n",
              "    60% {\n",
              "      border-color: transparent;\n",
              "      border-right-color: var(--fill-color);\n",
              "    }\n",
              "    80% {\n",
              "      border-color: transparent;\n",
              "      border-right-color: var(--fill-color);\n",
              "      border-bottom-color: var(--fill-color);\n",
              "    }\n",
              "    90% {\n",
              "      border-color: transparent;\n",
              "      border-bottom-color: var(--fill-color);\n",
              "    }\n",
              "  }\n",
              "</style>\n",
              "\n",
              "  <script>\n",
              "    async function quickchart(key) {\n",
              "      const quickchartButtonEl =\n",
              "        document.querySelector('#' + key + ' button');\n",
              "      quickchartButtonEl.disabled = true;  // To prevent multiple clicks.\n",
              "      quickchartButtonEl.classList.add('colab-df-spinner');\n",
              "      try {\n",
              "        const charts = await google.colab.kernel.invokeFunction(\n",
              "            'suggestCharts', [key], {});\n",
              "      } catch (error) {\n",
              "        console.error('Error during call to suggestCharts:', error);\n",
              "      }\n",
              "      quickchartButtonEl.classList.remove('colab-df-spinner');\n",
              "      quickchartButtonEl.classList.add('colab-df-quickchart-complete');\n",
              "    }\n",
              "    (() => {\n",
              "      let quickchartButtonEl =\n",
              "        document.querySelector('#df-e84f3a70-72b2-4be3-b01a-57742b00003e button');\n",
              "      quickchartButtonEl.style.display =\n",
              "        google.colab.kernel.accessAllowed ? 'block' : 'none';\n",
              "    })();\n",
              "  </script>\n",
              "</div>\n",
              "\n",
              "  <div id=\"id_38cf25fd-4137-45c4-b446-4f41528a0dfc\">\n",
              "    <style>\n",
              "      .colab-df-generate {\n",
              "        background-color: #E8F0FE;\n",
              "        border: none;\n",
              "        border-radius: 50%;\n",
              "        cursor: pointer;\n",
              "        display: none;\n",
              "        fill: #1967D2;\n",
              "        height: 32px;\n",
              "        padding: 0 0 0 0;\n",
              "        width: 32px;\n",
              "      }\n",
              "\n",
              "      .colab-df-generate:hover {\n",
              "        background-color: #E2EBFA;\n",
              "        box-shadow: 0px 1px 2px rgba(60, 64, 67, 0.3), 0px 1px 3px 1px rgba(60, 64, 67, 0.15);\n",
              "        fill: #174EA6;\n",
              "      }\n",
              "\n",
              "      [theme=dark] .colab-df-generate {\n",
              "        background-color: #3B4455;\n",
              "        fill: #D2E3FC;\n",
              "      }\n",
              "\n",
              "      [theme=dark] .colab-df-generate:hover {\n",
              "        background-color: #434B5C;\n",
              "        box-shadow: 0px 1px 3px 1px rgba(0, 0, 0, 0.15);\n",
              "        filter: drop-shadow(0px 1px 2px rgba(0, 0, 0, 0.3));\n",
              "        fill: #FFFFFF;\n",
              "      }\n",
              "    </style>\n",
              "    <button class=\"colab-df-generate\" onclick=\"generateWithVariable('df_shap_final_pbp')\"\n",
              "            title=\"Generate code using this dataframe.\"\n",
              "            style=\"display:none;\">\n",
              "\n",
              "  <svg xmlns=\"http://www.w3.org/2000/svg\" height=\"24px\"viewBox=\"0 0 24 24\"\n",
              "       width=\"24px\">\n",
              "    <path d=\"M7,19H8.4L18.45,9,17,7.55,7,17.6ZM5,21V16.75L18.45,3.32a2,2,0,0,1,2.83,0l1.4,1.43a1.91,1.91,0,0,1,.58,1.4,1.91,1.91,0,0,1-.58,1.4L9.25,21ZM18.45,9,17,7.55Zm-12,3A5.31,5.31,0,0,0,4.9,8.1,5.31,5.31,0,0,0,1,6.5,5.31,5.31,0,0,0,4.9,4.9,5.31,5.31,0,0,0,6.5,1,5.31,5.31,0,0,0,8.1,4.9,5.31,5.31,0,0,0,12,6.5,5.46,5.46,0,0,0,6.5,12Z\"/>\n",
              "  </svg>\n",
              "    </button>\n",
              "    <script>\n",
              "      (() => {\n",
              "      const buttonEl =\n",
              "        document.querySelector('#id_38cf25fd-4137-45c4-b446-4f41528a0dfc button.colab-df-generate');\n",
              "      buttonEl.style.display =\n",
              "        google.colab.kernel.accessAllowed ? 'block' : 'none';\n",
              "\n",
              "      buttonEl.onclick = () => {\n",
              "        google.colab.notebook.generateWithVariable('df_shap_final_pbp');\n",
              "      }\n",
              "      })();\n",
              "    </script>\n",
              "  </div>\n",
              "\n",
              "    </div>\n",
              "  </div>\n"
            ]
          },
          "metadata": {},
          "execution_count": 32
        }
      ]
    },
    {
      "cell_type": "code",
      "source": [
        "# df_shap_final_pbp.to_csv('df_shap_final_pbp.csv')"
      ],
      "metadata": {
        "id": "HO3aDdS5IlBh"
      },
      "execution_count": 33,
      "outputs": []
    }
  ],
  "metadata": {
    "colab": {
      "machine_shape": "hm",
      "provenance": [],
      "authorship_tag": "ABX9TyO3ZUf5sLmi5vQ7RU1bwN4o"
    },
    "kernelspec": {
      "display_name": "Python 3",
      "name": "python3"
    },
    "language_info": {
      "name": "python"
    }
  },
  "nbformat": 4,
  "nbformat_minor": 0
}